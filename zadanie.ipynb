{
 "metadata": {
  "language_info": {
   "codemirror_mode": {
    "name": "ipython",
    "version": 3
   },
   "file_extension": ".py",
   "mimetype": "text/x-python",
   "name": "python",
   "nbconvert_exporter": "python",
   "pygments_lexer": "ipython3",
   "version": "3.6.9-final"
  },
  "orig_nbformat": 2,
  "kernelspec": {
   "name": "python3",
   "display_name": "Python 3",
   "language": "python"
  }
 },
 "nbformat": 4,
 "nbformat_minor": 2,
 "cells": [
  {
   "cell_type": "code",
   "execution_count": 1,
   "metadata": {},
   "outputs": [
    {
     "output_type": "stream",
     "name": "stdout",
     "text": [
      "True\nFalse\nFalse\n"
     ]
    }
   ],
   "source": [
    "def are_anagrams(s1, s2, s3):\n",
    "    if len(s1) < 6 and len(s2) < 6 and len(s3) <6: #sprawdzamy czy max. dł. znaków jest mniejsza od 6, jeśli tak:\n",
    "        list_s1 = list(s1) #tworzymy listę ze znaków łańcucha\n",
    "        list_s1.sort() #sortujemy literki\n",
    "        list_s2 = list(s2)\n",
    "        list_s2.sort()\n",
    "        list_s3 = list(s3)\n",
    "        list_s3.sort()\n",
    "        return (list_s1 == list_s2 == list_s3) #jeśli posortowane literki są takie same zwracamy prawdę\n",
    "    else: \n",
    "        return False #w innym przypadku zwracamy False\n",
    "\n",
    "print(are_anagrams(\"noży\", \"żony\", \"ożyn\"))\n",
    "print(are_anagrams(\"zżeraniem\",\"zrażeniem\", \"żarzeniem\"))\n",
    "print(are_anagrams(\"women\", \"in\", \"technology\"))\n",
    "\n",
    "\n"
   ]
  },
  {
   "cell_type": "code",
   "execution_count": null,
   "metadata": {},
   "outputs": [],
   "source": []
  }
 ]
}